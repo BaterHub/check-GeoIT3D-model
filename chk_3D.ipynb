{
 "cells": [
  {
   "cell_type": "markdown",
   "metadata": {},
   "source": [
    "# chk3D\n"
   ]
  },
  {
   "cell_type": "markdown",
   "metadata": {},
   "source": [
    "# 0.1 Carica il workspace\n",
    "\n",
    "eseguire (play) la cella \"CARICA SPAZIO DI LAVORO\" solo all'apertura del notebook (altrimenti si ricarica lo spazio di lavoro di default cancellando le modifiche):\n",
    "- verrà caricato l'ambiente di lavoro e la cartella \"cartella_files\" dove andranno messi i file che costituiscono il modello 3D (.ts, .csv, .json)"
   ]
  },
  {
   "cell_type": "code",
   "execution_count": null,
   "metadata": {},
   "outputs": [],
   "source": [
    "import os\n",
    "import shutil\n",
    "\n",
    "# Percorso base\n",
    "base_path = '/content'\n",
    "repo_path = os.path.join(base_path, 'check-GeoIT3D-model')\n",
    "\n",
    "# Funzione per pulire completamente la directory\n",
    "def clean_repo_directory():\n",
    "    try:\n",
    "        # Rimuovi la directory se esiste\n",
    "        if os.path.exists(repo_path):\n",
    "            shutil.rmtree(repo_path)\n",
    "            print(f\"Directory {repo_path} rimossa\")\n",
    "    except Exception as e:\n",
    "        print(f\"Errore nella rimozione della directory: {e}\")\n",
    "\n",
    "# Pulisci la directory\n",
    "clean_repo_directory()\n",
    "\n",
    "# Cambia nella directory base\n",
    "os.chdir(base_path)\n",
    "\n",
    "# Clona il repository\n",
    "!git clone https://github.com/BaterHub/check-GeoIT3D-model.git\n",
    "\n",
    "# Cambia nella directory del repository\n",
    "%cd check-GeoIT3D-model"
   ]
  },
  {
   "cell_type": "markdown",
   "metadata": {},
   "source": [
    "# 0.2 Carica i file nella cartella \"cartella_files\"\n",
    "Trascinare i file* del pacchetto costituente il modello 3D nella cartella \"cartella_files\"\n",
    "\n",
    "*NB andranno caricati i seguenti file:\n",
    "- descriptor.json\n",
    "- dem.ts\n",
    "- horizons.ts\n",
    "- faults.ts\n",
    "- units.ts\n",
    "- main_horizon_attributes.csv\n",
    "- main_horizon_derived_attributes.csv\n",
    "- main_fault_attributes.csv\n",
    "- main_fault_derived_attributes.csv\n",
    "- main_fault_kinematics_attributes.csv\n",
    "- main_unit_attributes\n"
   ]
  },
  {
   "cell_type": "markdown",
   "metadata": {},
   "source": [
    "# 0.3 Eseguire lo script\n",
    "\n",
    "- Posizionarsi nella cella \"LANCIA LO SCRIPT\" e eseguire il RUN con \"ctrl + F10\" oppure dal menù \"Runtime > Run cell and below/Esegui questa cella e quelle sottostanti\"\n",
    "- Al termine del RUN verrà generato un log_file all'interno della cartella_files che conterrà tutti i risultati del check sui file del modello.\n",
    "\n",
    "NB un modello sarà perfettamente compatibile per il caricamento sul web-viewer GeoIT3D solo se passerà tutti i check elencati nel log_file (ammessi anche i Warnings)  "
   ]
  },
  {
   "cell_type": "markdown",
   "metadata": {},
   "source": [
    "# 1. Importa librerie e funzioni"
   ]
  },
  {
   "cell_type": "code",
   "execution_count": null,
   "metadata": {},
   "outputs": [],
   "source": [
    "# ### LANCIA LO SCRIPT\n",
    "\n",
    "## Importa librerie necessarie\n",
    "import sys\n",
    "import os\n",
    "import pandas as pd\n",
    "from IPython.display import display, Markdown, HTML\n",
    "from datetime import datetime\n",
    "\n",
    "#############################################################################################\n",
    "## Importa funzioni\n",
    "import importlib # modulo per il reload delle funzioni\n",
    "\n",
    "# Reimporta i moduli originali\n",
    "import file_utils\n",
    "import csv_validator\n",
    "import ts_validator\n",
    "import json_validator\n",
    "\n",
    "# Ricarica forzata di ciascun modulo\n",
    "importlib.reload(file_utils)\n",
    "importlib.reload(csv_validator)\n",
    "importlib.reload(ts_validator)\n",
    "importlib.reload(json_validator)\n",
    "\n",
    "# Reimporta le funzioni dai moduli ricaricati\n",
    "from file_utils import verifica_file_presenti\n",
    "from csv_validator import verifica_csv, valida_csv, verifica_numero_campi_csv, valida_id_univoci_csv, valida_campi_booleani_csv, valida_codici_csv, valida_campi_numerici_csv\n",
    "from ts_validator import analyze_gocad_files, print_gocad_summary, valida_gocad_e_confronta_csv\n",
    "from json_validator import check_descriptor_structure\n",
    "#############################################################################################\n",
    "\n",
    "# Percorso cartella\n",
    "folder_name = \"cartella_files\"\n",
    "cartella = os.path.abspath(folder_name)"
   ]
  },
  {
   "cell_type": "markdown",
   "metadata": {},
   "source": [
    "## 1.1 Specifiche file"
   ]
  },
  {
   "cell_type": "code",
   "execution_count": 892,
   "metadata": {},
   "outputs": [],
   "source": [
    "## Lista dei file necessari\n",
    "file_necessari = [\"dem.ts\", \"faults.ts\", \"horizons.ts\", \"units.ts\", \"descriptor.json\",\n",
    "                  \"main_fault_attributes.csv\", \"main_fault_derived_attributes.csv\", \"main_fault_kinematics_attributes.csv\",\n",
    "                  \"main_horizon_attributes.csv\", \"main_horizon_derived_attributes.csv\", \"main_unit_attributes.csv\"]\n",
    "\n",
    "## Validazione della struttura dei file CSV\n",
    "# Definiamo le specifiche per ogni file CSV\n",
    "specifiche_csv = {\n",
    "    'main_fault_attributes.csv': {\n",
    "        'campi_attesi': ['id', 'code_model', 'name_fault', 'name_model', 'name_system', 'type_fault',\n",
    "                         'color_fault', 'color_tone', 'evaluation_method', 'observation_method',\n",
    "                         'active_fault', 'seismogenic_fault', 'capable_fault'],\n",
    "        'campi_lunghezza_custom': {\n",
    "            'code_model': 4,\n",
    "            'name_fault': 15,\n",
    "            'name_model': 15,\n",
    "            'name_system': 15\n",
    "        }\n",
    "    },\n",
    "    'main_fault_derived_attributes.csv': {\n",
    "        'campi_attesi': ['id', 'code_model', 'mean_dip_azimuth', 'mean_dip_azimuth_uom',\n",
    "                         'mean_dip', 'mean_dip_uom', 'mean_strike', 'mean_strike_uom'],\n",
    "        'campi_lunghezza_custom': {\n",
    "            'code_model': 4\n",
    "        }\n",
    "    },\n",
    "    'main_fault_kinematics_attributes.csv': {\n",
    "        'campi_attesi': ['id', 'code_model', 'net_slip', 'net_slip_uom', 'hor_throw', 'hor_throw_uom',\n",
    "                         'ver_throw', 'ver_throw_uom', 'str_slip', 'str_slip_uom', 'heave', 'heave_uom',\n",
    "                         'dip_slip', 'dip_slip_uom', 'rake', 'rake_uom', 'pitch', 'pitch_uom'],\n",
    "        'campi_lunghezza_custom': {\n",
    "            'code_model': 4\n",
    "        }\n",
    "    },\n",
    "    'main_horizon_attributes.csv': {\n",
    "        'campi_attesi': ['id', 'code_model', 'name_surface', 'name_model', 'type_contact',\n",
    "                         'color_surface', 'color_tone', 'age_min_surface', 'age_max_surface',\n",
    "                         'evaluation_method', 'observation_method', 'id_ref_unit_up', 'id_ref_unit_down'],\n",
    "        'campi_lunghezza_custom': {\n",
    "            'code_model': 4,\n",
    "            'name_surface': 15,\n",
    "            'name_model': 15\n",
    "        }\n",
    "    },\n",
    "    'main_horizon_derived_attributes.csv': {\n",
    "        'campi_attesi': ['id', 'code_model', 'mean_dip_azimuth', 'mean_dip_azimuth_uom',\n",
    "                         'mean_dip', 'mean_dip_uom', 'mean_strike', 'mean_strike_uom'],\n",
    "        'campi_lunghezza_custom': {\n",
    "            'code_model': 4\n",
    "        }\n",
    "    },\n",
    "    'main_unit_attributes.csv': {\n",
    "        'campi_attesi': ['id', 'code_model', 'name_unit', 'name_model', 'type_unit',\n",
    "                         'type_lithology_main', 'type_lithology_sec', 'color_unit', 'color_tone',\n",
    "                         'id_surface_top', 'id_surface_bottom', 'age_up', 'age_low',\n",
    "                         'type_event_process', 'type_event_environment'],\n",
    "        'campi_lunghezza_custom': {\n",
    "            'code_model': 4,\n",
    "            'name_unit': 15,\n",
    "            'name_model': 15\n",
    "        }\n",
    "    }\n",
    "    # Aggiungi qui le specifiche per altri file CSV\n",
    "}\n",
    "\n"
   ]
  },
  {
   "cell_type": "markdown",
   "metadata": {},
   "source": [
    "# 2. Imposta logging"
   ]
  },
  {
   "cell_type": "code",
   "execution_count": 893,
   "metadata": {},
   "outputs": [],
   "source": [
    "import logging\n",
    "\n",
    "# Ottieni il nome della cartella per il file di log\n",
    "log_filename = os.path.basename(cartella) + \".log\"\n",
    "log_filepath = os.path.join(cartella, log_filename)\n",
    "\n",
    "# Cancella il file di log esistente se presente\n",
    "if os.path.exists(log_filepath):\n",
    "    # Apri il file in modalità 'w' per sovrascrivere completamente il contenuto\n",
    "    with open(log_filepath, 'w') as f:\n",
    "        f.write(\"\")  # Sovrascrive con stringa vuota\n",
    "\n",
    "# Configura il logging\n",
    "logging.basicConfig(\n",
    "    filename=log_filepath,\n",
    "    level=logging.INFO,\n",
    "    format=\"%(asctime)s - %(levelname)s - %(message)s\",\n",
    "    filemode='w',  # Importante: 'w' sovrascrive il file invece di appendere\n",
    "    force=True\n",
    ")\n",
    "\n",
    "# Reindirizza stdout e stderr al file di log\n",
    "class LoggerWriter:\n",
    "    def __init__(self, level):\n",
    "        self.level = level\n",
    "    \n",
    "    def write(self, message):\n",
    "        if message.strip():  # Evita righe vuote\n",
    "            self.level(message)\n",
    "    \n",
    "    def flush(self):  # Necessario per compatibilità con sys.stdout\n",
    "        pass\n",
    "\n",
    "sys.stdout = LoggerWriter(logging.info)  # Reindirizza print() in logging.info\n",
    "sys.stderr = LoggerWriter(logging.error)  # Reindirizza errori in logging.error\n",
    "\n",
    "# Log iniziale per indicare l'avvio di una nuova sessione\n",
    "logging.info(\"---- NUOVA SESSIONE AVVIATA ----\")"
   ]
  },
  {
   "cell_type": "markdown",
   "metadata": {},
   "source": [
    "# 3. Verifica la presenza di tutti i file nella cartella (e segnala quelli aggiuntivi)"
   ]
  },
  {
   "cell_type": "code",
   "execution_count": 894,
   "metadata": {},
   "outputs": [
    {
     "data": {
      "text/markdown": [
       "### Riepilogo dei file mandatori"
      ],
      "text/plain": [
       "<IPython.core.display.Markdown object>"
      ]
     },
     "metadata": {},
     "output_type": "display_data"
    },
    {
     "data": {
      "text/html": [
       "<div>\n",
       "<style scoped>\n",
       "    .dataframe tbody tr th:only-of-type {\n",
       "        vertical-align: middle;\n",
       "    }\n",
       "\n",
       "    .dataframe tbody tr th {\n",
       "        vertical-align: top;\n",
       "    }\n",
       "\n",
       "    .dataframe thead th {\n",
       "        text-align: right;\n",
       "    }\n",
       "</style>\n",
       "<table border=\"1\" class=\"dataframe\">\n",
       "  <thead>\n",
       "    <tr style=\"text-align: right;\">\n",
       "      <th></th>\n",
       "      <th>Nome File</th>\n",
       "      <th>Presente</th>\n",
       "      <th>File Simili</th>\n",
       "    </tr>\n",
       "  </thead>\n",
       "  <tbody>\n",
       "    <tr>\n",
       "      <th>0</th>\n",
       "      <td>dem.ts</td>\n",
       "      <td>True</td>\n",
       "      <td>N/A</td>\n",
       "    </tr>\n",
       "    <tr>\n",
       "      <th>1</th>\n",
       "      <td>faults.ts</td>\n",
       "      <td>True</td>\n",
       "      <td>N/A</td>\n",
       "    </tr>\n",
       "    <tr>\n",
       "      <th>2</th>\n",
       "      <td>horizons.ts</td>\n",
       "      <td>True</td>\n",
       "      <td>N/A</td>\n",
       "    </tr>\n",
       "    <tr>\n",
       "      <th>3</th>\n",
       "      <td>units.ts</td>\n",
       "      <td>True</td>\n",
       "      <td>N/A</td>\n",
       "    </tr>\n",
       "    <tr>\n",
       "      <th>4</th>\n",
       "      <td>descriptor.json</td>\n",
       "      <td>True</td>\n",
       "      <td>N/A</td>\n",
       "    </tr>\n",
       "    <tr>\n",
       "      <th>5</th>\n",
       "      <td>main_fault_attributes.csv</td>\n",
       "      <td>True</td>\n",
       "      <td>N/A</td>\n",
       "    </tr>\n",
       "    <tr>\n",
       "      <th>6</th>\n",
       "      <td>main_fault_derived_attributes.csv</td>\n",
       "      <td>True</td>\n",
       "      <td>N/A</td>\n",
       "    </tr>\n",
       "    <tr>\n",
       "      <th>7</th>\n",
       "      <td>main_fault_kinematics_attributes.csv</td>\n",
       "      <td>True</td>\n",
       "      <td>N/A</td>\n",
       "    </tr>\n",
       "    <tr>\n",
       "      <th>8</th>\n",
       "      <td>main_horizon_attributes.csv</td>\n",
       "      <td>True</td>\n",
       "      <td>N/A</td>\n",
       "    </tr>\n",
       "    <tr>\n",
       "      <th>9</th>\n",
       "      <td>main_horizon_derived_attributes.csv</td>\n",
       "      <td>True</td>\n",
       "      <td>N/A</td>\n",
       "    </tr>\n",
       "    <tr>\n",
       "      <th>10</th>\n",
       "      <td>main_unit_attributes.csv</td>\n",
       "      <td>True</td>\n",
       "      <td>N/A</td>\n",
       "    </tr>\n",
       "  </tbody>\n",
       "</table>\n",
       "</div>"
      ],
      "text/plain": [
       "                               Nome File  Presente File Simili\n",
       "0                                 dem.ts      True         N/A\n",
       "1                              faults.ts      True         N/A\n",
       "2                            horizons.ts      True         N/A\n",
       "3                               units.ts      True         N/A\n",
       "4                        descriptor.json      True         N/A\n",
       "5              main_fault_attributes.csv      True         N/A\n",
       "6      main_fault_derived_attributes.csv      True         N/A\n",
       "7   main_fault_kinematics_attributes.csv      True         N/A\n",
       "8            main_horizon_attributes.csv      True         N/A\n",
       "9    main_horizon_derived_attributes.csv      True         N/A\n",
       "10              main_unit_attributes.csv      True         N/A"
      ]
     },
     "metadata": {},
     "output_type": "display_data"
    }
   ],
   "source": [
    "# Esegue la verifica della presenza dei file\n",
    "file_presenti, file_mancanti, file_simili, file_aggiuntivi = verifica_file_presenti(cartella, file_necessari)\n",
    "\n",
    "# Visualizza i risultati\n",
    "print(f\"Cartella analizzata: {os.path.abspath(cartella)}\")\n",
    "print(\"\\nFile presenti:\")\n",
    "for file in file_presenti:\n",
    "    print(f\"✅ {file}\")\n",
    "\n",
    "print(\"\\nFile mancanti:\")\n",
    "for file in file_mancanti:\n",
    "    print(f\"❌ {file}\")\n",
    "\n",
    "# Visualizza i file aggiuntivi\n",
    "if file_aggiuntivi:\n",
    "    print(\"\\nAltri file nella cartella:\")\n",
    "    for file in file_aggiuntivi:\n",
    "        print(f\"ℹ️ {file}\")\n",
    "\n",
    "risultati = pd.DataFrame({\n",
    "    'Nome File': file_necessari,\n",
    "    'Presente': [file in file_presenti for file in file_necessari],\n",
    "    'File Simili': [', '.join(file_simili.get(file, [])) if file in file_mancanti else 'N/A' for file in file_necessari]\n",
    "})\n",
    "\n",
    "# Visualizza il DataFrame\n",
    "display(Markdown(\"### Riepilogo dei file mandatori\"))\n",
    "display(risultati)\n",
    "print(risultati)\n",
    "\n",
    "# ## Percentuale di completezza\n",
    "# completezza = len(file_presenti) / len(file_necessari) * 100 if file_necessari else 100\n",
    "# print(f\"\\nPercentuale di completezza: {completezza:.2f}%\")"
   ]
  },
  {
   "cell_type": "markdown",
   "metadata": {},
   "source": [
    "# 4. Verifica formattazione file CSV"
   ]
  },
  {
   "cell_type": "markdown",
   "metadata": {},
   "source": [
    "##  4.1 codifica e terminazione linee"
   ]
  },
  {
   "cell_type": "code",
   "execution_count": 895,
   "metadata": {},
   "outputs": [
    {
     "data": {
      "text/markdown": [
       "### Riepilogo formattazione file CSV"
      ],
      "text/plain": [
       "<IPython.core.display.Markdown object>"
      ]
     },
     "metadata": {},
     "output_type": "display_data"
    },
    {
     "data": {
      "text/html": [
       "<div>\n",
       "<style scoped>\n",
       "    .dataframe tbody tr th:only-of-type {\n",
       "        vertical-align: middle;\n",
       "    }\n",
       "\n",
       "    .dataframe tbody tr th {\n",
       "        vertical-align: top;\n",
       "    }\n",
       "\n",
       "    .dataframe thead th {\n",
       "        text-align: right;\n",
       "    }\n",
       "</style>\n",
       "<table border=\"1\" class=\"dataframe\">\n",
       "  <thead>\n",
       "    <tr style=\"text-align: right;\">\n",
       "      <th></th>\n",
       "      <th>Nome File</th>\n",
       "      <th>Esiste</th>\n",
       "      <th>Encoding</th>\n",
       "      <th>Terminazioni</th>\n",
       "    </tr>\n",
       "  </thead>\n",
       "  <tbody>\n",
       "    <tr>\n",
       "      <th>0</th>\n",
       "      <td>main_fault_attributes.csv</td>\n",
       "      <td>✅</td>\n",
       "      <td>✅ UTF-8</td>\n",
       "      <td>✅ LF</td>\n",
       "    </tr>\n",
       "    <tr>\n",
       "      <th>1</th>\n",
       "      <td>main_fault_derived_attributes.csv</td>\n",
       "      <td>✅</td>\n",
       "      <td>✅ UTF-8</td>\n",
       "      <td>✅ LF</td>\n",
       "    </tr>\n",
       "    <tr>\n",
       "      <th>2</th>\n",
       "      <td>main_fault_kinematics_attributes.csv</td>\n",
       "      <td>✅</td>\n",
       "      <td>✅ UTF-8</td>\n",
       "      <td>✅ LF</td>\n",
       "    </tr>\n",
       "    <tr>\n",
       "      <th>3</th>\n",
       "      <td>main_horizon_attributes.csv</td>\n",
       "      <td>✅</td>\n",
       "      <td>✅ UTF-8</td>\n",
       "      <td>✅ LF</td>\n",
       "    </tr>\n",
       "    <tr>\n",
       "      <th>4</th>\n",
       "      <td>main_horizon_derived_attributes.csv</td>\n",
       "      <td>✅</td>\n",
       "      <td>✅ UTF-8</td>\n",
       "      <td>✅ LF</td>\n",
       "    </tr>\n",
       "    <tr>\n",
       "      <th>5</th>\n",
       "      <td>main_unit_attributes.csv</td>\n",
       "      <td>✅</td>\n",
       "      <td>✅ UTF-8</td>\n",
       "      <td>✅ LF</td>\n",
       "    </tr>\n",
       "  </tbody>\n",
       "</table>\n",
       "</div>"
      ],
      "text/plain": [
       "                              Nome File Esiste Encoding Terminazioni\n",
       "0             main_fault_attributes.csv      ✅  ✅ UTF-8         ✅ LF\n",
       "1     main_fault_derived_attributes.csv      ✅  ✅ UTF-8         ✅ LF\n",
       "2  main_fault_kinematics_attributes.csv      ✅  ✅ UTF-8         ✅ LF\n",
       "3           main_horizon_attributes.csv      ✅  ✅ UTF-8         ✅ LF\n",
       "4   main_horizon_derived_attributes.csv      ✅  ✅ UTF-8         ✅ LF\n",
       "5              main_unit_attributes.csv      ✅  ✅ UTF-8         ✅ LF"
      ]
     },
     "metadata": {},
     "output_type": "display_data"
    }
   ],
   "source": [
    "# Filtriamo i file CSV dalla lista dei file necessari\n",
    "file_csv = [file for file in file_necessari if file.lower().endswith('.csv')]\n",
    "\n",
    "# Visualizziamo i risultati della verifica dei file CSV\n",
    "display(Markdown(\"### Riepilogo formattazione file CSV\"))\n",
    "\n",
    "# Eseguiamo la verifica dei file CSV\n",
    "risultati_csv = verifica_csv(cartella, file_csv)\n",
    "\n",
    "# Creiamo un DataFrame per visualizzare i risultati della verifica dei file CSV\n",
    "dati_csv = []\n",
    "for file, info in risultati_csv.items():\n",
    "    if info['esiste']:\n",
    "        stato_encoding = \"✅ UTF-8\" if info['is_utf8'] else f\"❌ {info['encoding']}\"\n",
    "        stato_terminazioni = \"✅ LF\" if info['is_lf'] else f\"❌ {info['terminazioni']}\"\n",
    "        dati_csv.append({\n",
    "            'Nome File': file,\n",
    "            'Esiste': \"✅\",\n",
    "            'Encoding': stato_encoding,\n",
    "            'Terminazioni': stato_terminazioni\n",
    "        })\n",
    "    else:\n",
    "        dati_csv.append({\n",
    "            'Nome File': file,\n",
    "            'Esiste': \"❌\",\n",
    "            'Encoding': \"N/A\",\n",
    "            'Terminazioni': \"N/A\"\n",
    "        })\n",
    "\n",
    "df_csv = pd.DataFrame(dati_csv)\n",
    "display(df_csv)\n",
    "\n",
    "# Riepilogo\n",
    "print(\"\\nRiepilogo verifica file CSV (codifica):\")\n",
    "for file, info in risultati_csv.items():\n",
    "    if info['esiste']:\n",
    "        if info['is_utf8'] and info['is_lf']:\n",
    "            print(f\"✅ {file} - UTF-8 con terminazioni LF\")\n",
    "        else:\n",
    "            problemi = []\n",
    "            if not info['is_utf8']:\n",
    "                problemi.append(f\"non è UTF-8 (rilevato: {info['encoding']})\")\n",
    "            if not info['is_lf']:\n",
    "                problemi.append(f\"non ha terminazioni LF (rilevato: {info['terminazioni']})\")\n",
    "            print(f\"❌ {file} - {', '.join(problemi)}\")\n",
    "    else:\n",
    "        print(f\"❌ {file} - File non trovato\")"
   ]
  },
  {
   "cell_type": "markdown",
   "metadata": {},
   "source": [
    "## 4.2 numero campi per ogni record"
   ]
  },
  {
   "cell_type": "code",
   "execution_count": 896,
   "metadata": {},
   "outputs": [
    {
     "data": {
      "text/markdown": [
       "### Validazione del numero dei campi dei file CSV"
      ],
      "text/plain": [
       "<IPython.core.display.Markdown object>"
      ]
     },
     "metadata": {},
     "output_type": "display_data"
    },
    {
     "data": {
      "text/html": [
       "<div>\n",
       "<style scoped>\n",
       "    .dataframe tbody tr th:only-of-type {\n",
       "        vertical-align: middle;\n",
       "    }\n",
       "\n",
       "    .dataframe tbody tr th {\n",
       "        vertical-align: top;\n",
       "    }\n",
       "\n",
       "    .dataframe thead th {\n",
       "        text-align: right;\n",
       "    }\n",
       "</style>\n",
       "<table border=\"1\" class=\"dataframe\">\n",
       "  <thead>\n",
       "    <tr style=\"text-align: right;\">\n",
       "      <th></th>\n",
       "      <th>esiste</th>\n",
       "      <th>errori</th>\n",
       "      <th>valido</th>\n",
       "    </tr>\n",
       "  </thead>\n",
       "  <tbody>\n",
       "    <tr>\n",
       "      <th>main_fault_attributes.csv</th>\n",
       "      <td>True</td>\n",
       "      <td>[]</td>\n",
       "      <td>True</td>\n",
       "    </tr>\n",
       "    <tr>\n",
       "      <th>main_fault_derived_attributes.csv</th>\n",
       "      <td>True</td>\n",
       "      <td>[]</td>\n",
       "      <td>True</td>\n",
       "    </tr>\n",
       "    <tr>\n",
       "      <th>main_fault_kinematics_attributes.csv</th>\n",
       "      <td>True</td>\n",
       "      <td>[]</td>\n",
       "      <td>True</td>\n",
       "    </tr>\n",
       "    <tr>\n",
       "      <th>main_horizon_attributes.csv</th>\n",
       "      <td>True</td>\n",
       "      <td>[]</td>\n",
       "      <td>True</td>\n",
       "    </tr>\n",
       "    <tr>\n",
       "      <th>main_horizon_derived_attributes.csv</th>\n",
       "      <td>True</td>\n",
       "      <td>[]</td>\n",
       "      <td>True</td>\n",
       "    </tr>\n",
       "    <tr>\n",
       "      <th>main_unit_attributes.csv</th>\n",
       "      <td>True</td>\n",
       "      <td>[]</td>\n",
       "      <td>True</td>\n",
       "    </tr>\n",
       "  </tbody>\n",
       "</table>\n",
       "</div>"
      ],
      "text/plain": [
       "                                      esiste errori  valido\n",
       "main_fault_attributes.csv               True     []    True\n",
       "main_fault_derived_attributes.csv       True     []    True\n",
       "main_fault_kinematics_attributes.csv    True     []    True\n",
       "main_horizon_attributes.csv             True     []    True\n",
       "main_horizon_derived_attributes.csv     True     []    True\n",
       "main_unit_attributes.csv                True     []    True"
      ]
     },
     "execution_count": 896,
     "metadata": {},
     "output_type": "execute_result"
    }
   ],
   "source": [
    "# Esegui la validazione del numero di campi\n",
    "risultati, riepilogo = verifica_numero_campi_csv(cartella, specifiche_csv, verbose=True)\n",
    "\n",
    "# Visualizziamo i risultati della validazione\n",
    "display(Markdown(\"### Validazione del numero dei campi dei file CSV\"))\n",
    "\n",
    "# Visualizza i risultati\n",
    "pd.DataFrame.from_dict(risultati, orient='index')"
   ]
  },
  {
   "cell_type": "markdown",
   "metadata": {},
   "source": [
    "## 4.3 headers, separatori, lunghezza campi testo"
   ]
  },
  {
   "cell_type": "code",
   "execution_count": 897,
   "metadata": {},
   "outputs": [
    {
     "data": {
      "text/markdown": [
       "### Validazione della struttura dei file CSV"
      ],
      "text/plain": [
       "<IPython.core.display.Markdown object>"
      ]
     },
     "metadata": {},
     "output_type": "display_data"
    },
    {
     "data": {
      "text/html": [
       "<table border=\"1\" class=\"dataframe\">\n",
       "  <thead>\n",
       "    <tr style=\"text-align: right;\">\n",
       "      <th></th>\n",
       "      <th>Nome File</th>\n",
       "      <th>Stato</th>\n",
       "      <th>Errori</th>\n",
       "    </tr>\n",
       "  </thead>\n",
       "  <tbody>\n",
       "    <tr>\n",
       "      <th>0</th>\n",
       "      <td>main_fault_attributes.csv</td>\n",
       "      <td>✅ Valido</td>\n",
       "      <td>Nessun errore</td>\n",
       "    </tr>\n",
       "    <tr>\n",
       "      <th>1</th>\n",
       "      <td>main_fault_derived_attributes.csv</td>\n",
       "      <td>✅ Valido</td>\n",
       "      <td>Nessun errore</td>\n",
       "    </tr>\n",
       "    <tr>\n",
       "      <th>2</th>\n",
       "      <td>main_fault_kinematics_attributes.csv</td>\n",
       "      <td>✅ Valido</td>\n",
       "      <td>Nessun errore</td>\n",
       "    </tr>\n",
       "    <tr>\n",
       "      <th>3</th>\n",
       "      <td>main_horizon_attributes.csv</td>\n",
       "      <td>✅ Valido</td>\n",
       "      <td>Nessun errore</td>\n",
       "    </tr>\n",
       "    <tr>\n",
       "      <th>4</th>\n",
       "      <td>main_horizon_derived_attributes.csv</td>\n",
       "      <td>✅ Valido</td>\n",
       "      <td>Nessun errore</td>\n",
       "    </tr>\n",
       "    <tr>\n",
       "      <th>5</th>\n",
       "      <td>main_unit_attributes.csv</td>\n",
       "      <td>✅ Valido</td>\n",
       "      <td>Nessun errore</td>\n",
       "    </tr>\n",
       "  </tbody>\n",
       "</table>"
      ],
      "text/plain": [
       "<IPython.core.display.HTML object>"
      ]
     },
     "metadata": {},
     "output_type": "display_data"
    }
   ],
   "source": [
    "# Eseguiamo la validazione della struttura dei file CSV\n",
    "risultati_validazione = valida_csv(cartella, specifiche_csv)\n",
    "\n",
    "# Visualizziamo i risultati della validazione\n",
    "display(Markdown(\"### Validazione della struttura dei file CSV\"))\n",
    "\n",
    "# Creiamo un DataFrame per visualizzare i risultati della validazione\n",
    "dati_validazione = []\n",
    "for file, info in risultati_validazione.items():\n",
    "    if info['esiste']:\n",
    "        stato = \"✅ Valido\" if info.get('valido', False) else \"❌ Non valido\"\n",
    "        errori = \"<br>\".join(info.get('errori', [])) if info.get('errori') else \"Nessun errore\"\n",
    "        dati_validazione.append({\n",
    "            'Nome File': file,\n",
    "            'Stato': stato,\n",
    "            'Errori': errori\n",
    "        })\n",
    "    else:\n",
    "        dati_validazione.append({\n",
    "            'Nome File': file,\n",
    "            'Stato': \"❌ File non trovato\",\n",
    "            'Errori': \"File non trovato\"\n",
    "        })\n",
    "\n",
    "df_validazione = pd.DataFrame(dati_validazione)\n",
    "# Usiamo HTML per formattare correttamente gli errori con interruzioni di riga\n",
    "display(HTML(df_validazione.to_html(escape=False)))\n",
    "\n",
    "# Riepilogo finale\n",
    "print(\"\\nRiepilogo validazione struttura file CSV (headers, separatori, lunghezza campi):\")\n",
    "for file, info in risultati_validazione.items():\n",
    "    print(f\"\\n{file}:\")\n",
    "    if not info['esiste']:\n",
    "        print(\"  ❌ File non trovato\")\n",
    "    elif info.get('valido', False):\n",
    "        print(\"  ✅ Struttura valida\")\n",
    "    else:\n",
    "        print(\"  ❌ Problemi riscontrati:\")\n",
    "        for errore in info.get('errori', []):\n",
    "            print(f\"    - {errore}\")"
   ]
  },
  {
   "cell_type": "markdown",
   "metadata": {},
   "source": [
    "## 4.4 controllo campi parametri aggiuntivi"
   ]
  },
  {
   "cell_type": "code",
   "execution_count": 898,
   "metadata": {},
   "outputs": [
    {
     "data": {
      "text/markdown": [
       "### Validazione campi numerici dei file CSV"
      ],
      "text/plain": [
       "<IPython.core.display.Markdown object>"
      ]
     },
     "metadata": {},
     "output_type": "display_data"
    },
    {
     "data": {
      "text/markdown": [
       "```\n",
       "============================================================\n",
       "RIEPILOGO VALIDAZIONE CAMPI NUMERICI\n",
       "============================================================\n",
       "✅ File validi: 3/3\n",
       "❌ File con errori: 0/3\n",
       "🔍 File non trovati: 0/3\n",
       "============================================================\n",
       "```"
      ],
      "text/plain": [
       "<IPython.core.display.Markdown object>"
      ]
     },
     "metadata": {},
     "output_type": "display_data"
    }
   ],
   "source": [
    "# Lista dei file CSV da controllare\n",
    "file_da_controllare_numerici = [\n",
    "    'main_fault_derived_attributes.csv',\n",
    "    'main_horizon_derived_attributes.csv',\n",
    "    'main_fault_kinematics_attributes.csv'\n",
    "]\n",
    "\n",
    "# Visualizziamo i risultati della validazione\n",
    "display(Markdown(\"### Validazione campi numerici dei file CSV\"))\n",
    "\n",
    "# Validazione con output dettagliato\n",
    "risultati, riepilogo = valida_campi_numerici_csv(cartella, file_da_controllare_numerici)\n",
    "\n",
    "# Visualizzazione del riepilogo\n",
    "display(Markdown(f\"```\\n{riepilogo}\\n```\"))"
   ]
  },
  {
   "cell_type": "markdown",
   "metadata": {},
   "source": [
    "## 4.5 controllo campi booleani"
   ]
  },
  {
   "cell_type": "code",
   "execution_count": 899,
   "metadata": {},
   "outputs": [
    {
     "data": {
      "text/markdown": [
       "### Validazione campi booleani dei file CSV"
      ],
      "text/plain": [
       "<IPython.core.display.Markdown object>"
      ]
     },
     "metadata": {},
     "output_type": "display_data"
    },
    {
     "data": {
      "text/markdown": [
       "```\n",
       "============================================================\n",
       "RIEPILOGO VALIDAZIONE CAMPI BOOLEANI\n",
       "============================================================\n",
       "✅ File validi: 1/1\n",
       "❌ File con errori: 0/1\n",
       "🔍 File non trovati: 0/1\n",
       "============================================================\n",
       "```"
      ],
      "text/plain": [
       "<IPython.core.display.Markdown object>"
      ]
     },
     "metadata": {},
     "output_type": "display_data"
    }
   ],
   "source": [
    "# Lista dei file CSV da controllare\n",
    "file_da_controllare_boolean = [\n",
    "    'main_fault_attributes.csv'\n",
    "    # aggiungi altri file da controllare\n",
    "]\n",
    "\n",
    "# Visualizziamo i risultati della validazione\n",
    "display(Markdown(\"### Validazione campi booleani dei file CSV\"))\n",
    "\n",
    "# Validazione con output dettagliato\n",
    "risultati, riepilogo = valida_campi_booleani_csv(cartella, file_da_controllare_boolean)\n",
    "\n",
    "# Visualizzazione del riepilogo\n",
    "from IPython.display import Markdown\n",
    "display(Markdown(f\"```\\n{riepilogo}\\n```\"))\n"
   ]
  },
  {
   "cell_type": "markdown",
   "metadata": {},
   "source": [
    "## 4.6 correttezza ID's"
   ]
  },
  {
   "cell_type": "code",
   "execution_count": 900,
   "metadata": {},
   "outputs": [
    {
     "data": {
      "text/markdown": [
       "### Validazione ID nei file CSV"
      ],
      "text/plain": [
       "<IPython.core.display.Markdown object>"
      ]
     },
     "metadata": {},
     "output_type": "display_data"
    },
    {
     "data": {
      "text/markdown": [
       "```\n",
       "============================================================\n",
       "RIEPILOGO VALIDAZIONE\n",
       "============================================================\n",
       "✅ File validi: 6/6\n",
       "❌ File con errori: 0/6\n",
       "🔍 File non trovati: 0/6\n",
       "------------------------------------------------------------\n",
       "CONTROLLO CONSISTENZA ID PER GRUPPO:\n",
       "✅ Gruppo fault: tutti gli ID corrispondono\n",
       "✅ Gruppo horizon: tutti gli ID corrispondono\n",
       "============================================================\n",
       "```"
      ],
      "text/plain": [
       "<IPython.core.display.Markdown object>"
      ]
     },
     "metadata": {},
     "output_type": "display_data"
    }
   ],
   "source": [
    "\n",
    "\"\"\"\n",
    "NB Questa versione garantisce che:\n",
    "\n",
    "I file main_fault_*.csv abbiano gli stessi ID nella colonna principale\n",
    "I file main_horizon_*.csv abbiano gli stessi ID nella colonna principale\n",
    "I file main_unit_*.csv (attualmente solo uno) possano essere estesi in futuro mantenendo la consistenza\n",
    "\"\"\"\n",
    "\n",
    "specifiche_id = {\n",
    "    'main_fault_attributes.csv': {\n",
    "        'colonne': {\n",
    "            'id': 'FLT'\n",
    "        },\n",
    "        'colonna_principale': 'id'\n",
    "    },\n",
    "    'main_fault_derived_attributes.csv': {\n",
    "        'colonne': {\n",
    "            'id': 'FLT'\n",
    "        },\n",
    "        'colonna_principale': 'id'\n",
    "    },'main_fault_kinematics_attributes.csv': {\n",
    "        'colonne': {\n",
    "            'id': 'FLT'\n",
    "        },\n",
    "        'colonna_principale': 'id'\n",
    "    },'main_horizon_attributes.csv': {\n",
    "        'colonne': {\n",
    "            'id': 'SRF',\n",
    "            'id_ref_unit_up': 'UNT',\n",
    "            'id_ref_unit_down': 'UNT'\n",
    "        },\n",
    "        'colonna_principale': 'id'\n",
    "    },'main_horizon_derived_attributes.csv': {\n",
    "        'colonne': {\n",
    "            'id': 'SRF'\n",
    "        },\n",
    "        'colonna_principale': 'id'\n",
    "    },'main_unit_attributes.csv': {\n",
    "        'colonne': {\n",
    "            'id': 'UNT',\n",
    "            'id_surface_top': 'SRF',\n",
    "            'id_surface_bottom': 'SRF'\n",
    "        },\n",
    "        'colonna_principale': 'id'\n",
    "    },\n",
    "}\n",
    "\n",
    "\n",
    "# Visualizziamo i risultati della validazione\n",
    "display(Markdown(\"### Validazione ID nei file CSV\"))\n",
    "\n",
    "# Validazione con output dettagliato\n",
    "risultati_id, riepilogo_id = valida_id_univoci_csv(cartella, specifiche_id)\n",
    "\n",
    "# Visualizzazione del riepilogo\n",
    "display(Markdown(f\"```\\n{riepilogo_id}\\n```\"))"
   ]
  },
  {
   "cell_type": "markdown",
   "metadata": {},
   "source": [
    "## 4.7 esistenza codici tabelle domini"
   ]
  },
  {
   "cell_type": "code",
   "execution_count": 901,
   "metadata": {},
   "outputs": [
    {
     "data": {
      "text/markdown": [
       "```\n",
       "============================================================\n",
       "RIEPILOGO VALIDAZIONE CODICI\n",
       "============================================================\n",
       "✅ File validi: 2/3\n",
       "❌ File con errori: 1/3\n",
       "🔍 File non trovati: 0/3\n",
       "============================================================\n",
       "```"
      ],
      "text/plain": [
       "<IPython.core.display.Markdown object>"
      ]
     },
     "metadata": {},
     "output_type": "display_data"
    }
   ],
   "source": [
    "# Percorso al file code_domain.csv nella cartella superiore\n",
    "file_domini_codici = os.path.normpath(os.path.join(os.pardir, \"code_domain.csv\"))\n",
    "\n",
    "print(f\"Inizio validazione codici in {cartella} con file domini {file_domini_codici}\")\n",
    "\n",
    "specifiche_codici = {\n",
    "    'main_fault_attributes.csv': {\n",
    "        'colonne_codici': {\n",
    "            'type_fault': 'type_fault',\n",
    "            'color_fault': 'color_fault',\n",
    "            'evaluation_method': 'evaluation_method',\n",
    "            'observation_method': 'observation_method'\n",
    "        }\n",
    "    },\n",
    "    'main_horizon_attributes.csv': {\n",
    "        'colonne_codici': {\n",
    "            'type_contact': 'type_contact',\n",
    "            'color_surface': 'color_surface',\n",
    "            'evaluation_method': 'evaluation_method',\n",
    "            'observation_method': 'observation_method',\n",
    "            'age_min_surface': 'age_min_surface',\n",
    "            'age_max_surface': 'age_max_surface'\n",
    "        }\n",
    "    },\n",
    "    'main_unit_attributes.csv': {\n",
    "        'colonne_codici': {\n",
    "            'type_unit': 'type_unit',\n",
    "            'color_unit': 'color_unit',\n",
    "            'type_event_process': 'type_event_process',\n",
    "            'type_event_environment': 'type_event_environment',\n",
    "            'age_up': 'age_up',\n",
    "            'age_low': 'age_low',\n",
    "            'type_lithology_main': 'type_lithology_main',\n",
    "            'type_lithology_sec': 'type_lithology_sec'\n",
    "        }\n",
    "    }\n",
    "}\n",
    "\n",
    "# Con un file personalizzato\n",
    "risultati, riepilogo = valida_codici_csv(cartella, specifiche_codici, \n",
    "                                         file_domini_codici=file_domini_codici, verbose=True)\n",
    "\n",
    "\n",
    "# Visualizzazione del riepilogo\n",
    "from IPython.display import Markdown\n",
    "display(Markdown(f\"```\\n{riepilogo}\\n```\"))"
   ]
  },
  {
   "cell_type": "markdown",
   "metadata": {},
   "source": [
    "# 5. Verifica formattazione file GOCAD"
   ]
  },
  {
   "cell_type": "markdown",
   "metadata": {},
   "source": [
    "## 5.1 struttura (header, coordinate, connettività, keywords, controllo poligonale)"
   ]
  },
  {
   "cell_type": "code",
   "execution_count": 902,
   "metadata": {},
   "outputs": [],
   "source": [
    "# Elenco dei file da analizzare\n",
    "file_list = [\"dem.ts\", \"faults.ts\", \"horizons.ts\", \"units.ts\"]\n",
    "\n",
    "# Definisci le keyword valide per ogni sezione\n",
    "valid_header_keywords = ['GOCAD', 'TSurf', 'HEADER', 'name:', 'NAME', 'AXIS_NAME', 'AXIS_UNIT', 'ZPOSITIVE', 'GOCAD_ORIGINAL_COORDINATE_SYSTEM', 'END_ORIGINAL_COORDINATE_SYSTEM',\n",
    "                         'PROPERTIES', 'PROP_LEGAL_RANGES', 'NO_DATA_VALUES', 'PROPERTY_CLASSES', 'PROPERTY_KINDS', 'PROPERTY_SUBCLASSES', 'ESIZES', 'UNITS']\n",
    "valid_coordinate_keywords = ['TFACE', 'TSOLID', 'VRTX', 'PVRTX']\n",
    "valid_connectivity_keywords = ['TRGL', 'TETRA']\n",
    "\n",
    "# Lista di special keywords con relative regole di validazione\n",
    "special_keywords = {\n",
    "    '*visible:': {\n",
    "        'valid_values': ['true', 'false', '1', '0', 'on', 'off'],\n",
    "        'type': 'boolean',\n",
    "        'description': 'Visibilità dell\\'oggetto'\n",
    "    },\n",
    "    '*solid*color:': {\n",
    "        'valid_values': 'rgb',  # Special case per colori RGB\n",
    "        'type': 'color',\n",
    "        'description': 'Colore RGB dell\\'oggetto'\n",
    "    }\n",
    "}\n",
    "\n",
    "# Analizza i file con validazione delle keywords\n",
    "analysis = analyze_gocad_files(\n",
    "    cartella=cartella,\n",
    "    filenames=file_list,\n",
    "    valid_header_kw=valid_header_keywords,\n",
    "    valid_coord_kw=valid_coordinate_keywords,\n",
    "    valid_conn_kw=valid_connectivity_keywords,\n",
    "    special_keywords=special_keywords  # puoi omettere questo per usare i default\n",
    ")\n",
    "\n",
    "# Stampa solo il report sintetico\n",
    "summary_ts = print_gocad_summary(analysis, cartella)"
   ]
  },
  {
   "cell_type": "markdown",
   "metadata": {},
   "source": [
    "## 5.2 correttezza ID's e corrispondenza con csv"
   ]
  },
  {
   "cell_type": "code",
   "execution_count": 903,
   "metadata": {},
   "outputs": [],
   "source": [
    "# Specifiche per i file GOCAD\n",
    "specifiche_gocad = {\n",
    "    'faults.ts': {\n",
    "        'prefisso_atteso': 'FLT',\n",
    "        'csv_corrispondente': 'main_fault_attributes.csv'\n",
    "    },\n",
    "    'horizons.ts': {\n",
    "        'prefisso_atteso': 'SRF',\n",
    "        'csv_corrispondente': 'main_horizon_attributes.csv'\n",
    "    },\n",
    "    'units.ts': {\n",
    "        'prefisso_atteso': 'UNT',\n",
    "        'csv_corrispondente': 'main_unit_attributes.csv'\n",
    "    }\n",
    "}\n",
    "\n",
    "\n",
    "# Poi valida i file GOCAD\n",
    "risultati_gocad, riepilogo_gocad = valida_gocad_e_confronta_csv(cartella, specifiche_gocad, risultati_csv)"
   ]
  },
  {
   "cell_type": "markdown",
   "metadata": {},
   "source": [
    "# 6. Verifica DESCRIPTOR"
   ]
  },
  {
   "cell_type": "code",
   "execution_count": 904,
   "metadata": {},
   "outputs": [
    {
     "data": {
      "text/plain": [
       "{'valid': True,\n",
       " 'errors': [],\n",
       " 'warnings': [],\n",
       " 'summary': '==================================================\\n========== VALIDAZIONE DESCRIPTOR.JSON ===========\\n==================================================\\n\\nStato: ✅ VALIDO\\n\\n\\n==================================================\\nRIEPILOGO: 0 errori, 0 avvertenze\\n=================================================='}"
      ]
     },
     "metadata": {},
     "output_type": "display_data"
    }
   ],
   "source": [
    "# struttura json\n",
    "REQUIRED_FIELDS = {\n",
    "    \"code\": str,\n",
    "    \"name\": str,\n",
    "    \"description\": dict,\n",
    "    \"author\": str,\n",
    "    \"source\": str,\n",
    "    \"doi\": str,\n",
    "    \"license\": str,\n",
    "    \"creation datetime\": datetime,\n",
    "    \"publication datetime\": datetime,\n",
    "    \"meta_url\": type(None)\n",
    "}\n",
    "\n",
    "# Check\n",
    "if __name__ == \"__main__\":\n",
    "    report = check_descriptor_structure(cartella, REQUIRED_FIELDS)\n",
    "    \n",
    "    # Output a schermo\n",
    "    print(report['summary'])\n",
    "\n",
    "\n",
    "# Visualizzazione del riepilogo\n",
    "display(report)"
   ]
  }
 ],
 "metadata": {
  "kernelspec": {
   "display_name": "work39",
   "language": "python",
   "name": "python3"
  },
  "language_info": {
   "codemirror_mode": {
    "name": "ipython",
    "version": 3
   },
   "file_extension": ".py",
   "mimetype": "text/x-python",
   "name": "python",
   "nbconvert_exporter": "python",
   "pygments_lexer": "ipython3",
   "version": "3.9.12"
  }
 },
 "nbformat": 4,
 "nbformat_minor": 2
}
